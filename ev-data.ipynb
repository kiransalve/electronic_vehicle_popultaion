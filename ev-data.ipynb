{
 "cells": [
  {
   "cell_type": "code",
   "execution_count": 267,
   "id": "daed19d6-bb1c-403c-b7af-4512858b5a2c",
   "metadata": {},
   "outputs": [],
   "source": [
    "import pandas as pd\n",
    "import matplotlib.pyplot as plt"
   ]
  },
  {
   "cell_type": "code",
   "execution_count": 268,
   "id": "e8e17265-4e80-4ed1-b902-e8ae8b9f73b6",
   "metadata": {},
   "outputs": [],
   "source": [
    "df = pd.read_csv(\"evp.csv\")"
   ]
  },
  {
   "cell_type": "code",
   "execution_count": 269,
   "id": "69e5c657-b2a4-4292-9727-c1b2aa2457c6",
   "metadata": {},
   "outputs": [
    {
     "data": {
      "text/html": [
       "<div>\n",
       "<style scoped>\n",
       "    .dataframe tbody tr th:only-of-type {\n",
       "        vertical-align: middle;\n",
       "    }\n",
       "\n",
       "    .dataframe tbody tr th {\n",
       "        vertical-align: top;\n",
       "    }\n",
       "\n",
       "    .dataframe thead th {\n",
       "        text-align: right;\n",
       "    }\n",
       "</style>\n",
       "<table border=\"1\" class=\"dataframe\">\n",
       "  <thead>\n",
       "    <tr style=\"text-align: right;\">\n",
       "      <th></th>\n",
       "      <th>VIN (1-10)</th>\n",
       "      <th>County</th>\n",
       "      <th>City</th>\n",
       "      <th>State</th>\n",
       "      <th>Postal Code</th>\n",
       "      <th>Model Year</th>\n",
       "      <th>Make</th>\n",
       "      <th>Model</th>\n",
       "      <th>Electric Vehicle Type</th>\n",
       "      <th>Clean Alternative Fuel Vehicle (CAFV) Eligibility</th>\n",
       "      <th>Electric Range</th>\n",
       "      <th>Base MSRP</th>\n",
       "      <th>Legislative District</th>\n",
       "      <th>DOL Vehicle ID</th>\n",
       "      <th>Vehicle Location</th>\n",
       "      <th>Electric Utility</th>\n",
       "      <th>2020 Census Tract</th>\n",
       "    </tr>\n",
       "  </thead>\n",
       "  <tbody>\n",
       "    <tr>\n",
       "      <th>0</th>\n",
       "      <td>5YJ3E1EA5L</td>\n",
       "      <td>King</td>\n",
       "      <td>Seattle</td>\n",
       "      <td>WA</td>\n",
       "      <td>98133.0</td>\n",
       "      <td>2020</td>\n",
       "      <td>TESLA</td>\n",
       "      <td>MODEL 3</td>\n",
       "      <td>Battery Electric Vehicle (BEV)</td>\n",
       "      <td>Clean Alternative Fuel Vehicle Eligible</td>\n",
       "      <td>266</td>\n",
       "      <td>0</td>\n",
       "      <td>46.0</td>\n",
       "      <td>249903111</td>\n",
       "      <td>POINT (-122.35029 47.71871)</td>\n",
       "      <td>CITY OF SEATTLE - (WA)|CITY OF TACOMA - (WA)</td>\n",
       "      <td>5.303300e+10</td>\n",
       "    </tr>\n",
       "  </tbody>\n",
       "</table>\n",
       "</div>"
      ],
      "text/plain": [
       "   VIN (1-10) County     City State  Postal Code  Model Year   Make    Model  \\\n",
       "0  5YJ3E1EA5L   King  Seattle    WA      98133.0        2020  TESLA  MODEL 3   \n",
       "\n",
       "            Electric Vehicle Type  \\\n",
       "0  Battery Electric Vehicle (BEV)   \n",
       "\n",
       "  Clean Alternative Fuel Vehicle (CAFV) Eligibility  Electric Range  \\\n",
       "0           Clean Alternative Fuel Vehicle Eligible             266   \n",
       "\n",
       "   Base MSRP  Legislative District  DOL Vehicle ID  \\\n",
       "0          0                  46.0       249903111   \n",
       "\n",
       "              Vehicle Location                              Electric Utility  \\\n",
       "0  POINT (-122.35029 47.71871)  CITY OF SEATTLE - (WA)|CITY OF TACOMA - (WA)   \n",
       "\n",
       "   2020 Census Tract  \n",
       "0       5.303300e+10  "
      ]
     },
     "execution_count": 269,
     "metadata": {},
     "output_type": "execute_result"
    }
   ],
   "source": [
    "df.head(1)"
   ]
  },
  {
   "cell_type": "code",
   "execution_count": 270,
   "id": "b60a457a-9bd5-498c-be5f-45b78e7e2101",
   "metadata": {},
   "outputs": [
    {
     "data": {
      "text/plain": [
       "Index(['VIN (1-10)', 'County', 'City', 'State', 'Postal Code', 'Model Year',\n",
       "       'Make', 'Model', 'Electric Vehicle Type',\n",
       "       'Clean Alternative Fuel Vehicle (CAFV) Eligibility', 'Electric Range',\n",
       "       'Base MSRP', 'Legislative District', 'DOL Vehicle ID',\n",
       "       'Vehicle Location', 'Electric Utility', '2020 Census Tract'],\n",
       "      dtype='object')"
      ]
     },
     "execution_count": 270,
     "metadata": {},
     "output_type": "execute_result"
    }
   ],
   "source": [
    "df.columns"
   ]
  },
  {
   "cell_type": "code",
   "execution_count": 271,
   "id": "fced440e-c39a-4d0d-bad8-ba956007ac50",
   "metadata": {},
   "outputs": [
    {
     "data": {
      "text/plain": [
       "VIN (1-10)                                             0\n",
       "County                                                 3\n",
       "City                                                   3\n",
       "State                                                  0\n",
       "Postal Code                                            3\n",
       "Model Year                                             0\n",
       "Make                                                   0\n",
       "Model                                                  0\n",
       "Electric Vehicle Type                                  0\n",
       "Clean Alternative Fuel Vehicle (CAFV) Eligibility      0\n",
       "Electric Range                                         0\n",
       "Base MSRP                                              0\n",
       "Legislative District                                 463\n",
       "DOL Vehicle ID                                         0\n",
       "Vehicle Location                                       9\n",
       "Electric Utility                                       3\n",
       "2020 Census Tract                                      3\n",
       "dtype: int64"
      ]
     },
     "execution_count": 271,
     "metadata": {},
     "output_type": "execute_result"
    }
   ],
   "source": [
    "df.isnull().sum()"
   ]
  },
  {
   "cell_type": "markdown",
   "id": "4222f084-ff88-4997-9c4f-30acd52ea3f1",
   "metadata": {},
   "source": [
    "<h1>How many unique electric vehicle (EV) models are available in the dataset?"
   ]
  },
  {
   "cell_type": "code",
   "execution_count": 272,
   "id": "bea67386-5d0f-423a-bc9b-ec4a605c4249",
   "metadata": {},
   "outputs": [
    {
     "data": {
      "text/html": [
       "<div>\n",
       "<style scoped>\n",
       "    .dataframe tbody tr th:only-of-type {\n",
       "        vertical-align: middle;\n",
       "    }\n",
       "\n",
       "    .dataframe tbody tr th {\n",
       "        vertical-align: top;\n",
       "    }\n",
       "\n",
       "    .dataframe thead th {\n",
       "        text-align: right;\n",
       "    }\n",
       "</style>\n",
       "<table border=\"1\" class=\"dataframe\">\n",
       "  <thead>\n",
       "    <tr style=\"text-align: right;\">\n",
       "      <th></th>\n",
       "      <th>Postal Code</th>\n",
       "      <th>Model Year</th>\n",
       "      <th>Electric Range</th>\n",
       "      <th>Base MSRP</th>\n",
       "      <th>Legislative District</th>\n",
       "      <th>DOL Vehicle ID</th>\n",
       "      <th>2020 Census Tract</th>\n",
       "    </tr>\n",
       "  </thead>\n",
       "  <tbody>\n",
       "    <tr>\n",
       "      <th>count</th>\n",
       "      <td>220222.000000</td>\n",
       "      <td>220225.000000</td>\n",
       "      <td>220225.000000</td>\n",
       "      <td>220225.000000</td>\n",
       "      <td>219762.000000</td>\n",
       "      <td>2.202250e+05</td>\n",
       "      <td>2.202220e+05</td>\n",
       "    </tr>\n",
       "    <tr>\n",
       "      <th>mean</th>\n",
       "      <td>98176.179355</td>\n",
       "      <td>2021.194242</td>\n",
       "      <td>48.724423</td>\n",
       "      <td>852.456874</td>\n",
       "      <td>28.907909</td>\n",
       "      <td>2.315541e+08</td>\n",
       "      <td>5.298061e+10</td>\n",
       "    </tr>\n",
       "    <tr>\n",
       "      <th>std</th>\n",
       "      <td>2534.666722</td>\n",
       "      <td>2.981490</td>\n",
       "      <td>85.874160</td>\n",
       "      <td>7469.168138</td>\n",
       "      <td>14.911386</td>\n",
       "      <td>6.983360e+07</td>\n",
       "      <td>1.524348e+09</td>\n",
       "    </tr>\n",
       "    <tr>\n",
       "      <th>min</th>\n",
       "      <td>1731.000000</td>\n",
       "      <td>1999.000000</td>\n",
       "      <td>0.000000</td>\n",
       "      <td>0.000000</td>\n",
       "      <td>1.000000</td>\n",
       "      <td>4.385000e+03</td>\n",
       "      <td>1.001020e+09</td>\n",
       "    </tr>\n",
       "    <tr>\n",
       "      <th>25%</th>\n",
       "      <td>98052.000000</td>\n",
       "      <td>2020.000000</td>\n",
       "      <td>0.000000</td>\n",
       "      <td>0.000000</td>\n",
       "      <td>17.000000</td>\n",
       "      <td>1.980609e+08</td>\n",
       "      <td>5.303301e+10</td>\n",
       "    </tr>\n",
       "    <tr>\n",
       "      <th>50%</th>\n",
       "      <td>98125.000000</td>\n",
       "      <td>2022.000000</td>\n",
       "      <td>0.000000</td>\n",
       "      <td>0.000000</td>\n",
       "      <td>32.000000</td>\n",
       "      <td>2.448443e+08</td>\n",
       "      <td>5.303303e+10</td>\n",
       "    </tr>\n",
       "    <tr>\n",
       "      <th>75%</th>\n",
       "      <td>98374.000000</td>\n",
       "      <td>2023.000000</td>\n",
       "      <td>42.000000</td>\n",
       "      <td>0.000000</td>\n",
       "      <td>42.000000</td>\n",
       "      <td>2.659792e+08</td>\n",
       "      <td>5.305307e+10</td>\n",
       "    </tr>\n",
       "    <tr>\n",
       "      <th>max</th>\n",
       "      <td>99577.000000</td>\n",
       "      <td>2025.000000</td>\n",
       "      <td>337.000000</td>\n",
       "      <td>845000.000000</td>\n",
       "      <td>49.000000</td>\n",
       "      <td>4.792548e+08</td>\n",
       "      <td>5.602100e+10</td>\n",
       "    </tr>\n",
       "  </tbody>\n",
       "</table>\n",
       "</div>"
      ],
      "text/plain": [
       "         Postal Code     Model Year  Electric Range      Base MSRP  \\\n",
       "count  220222.000000  220225.000000   220225.000000  220225.000000   \n",
       "mean    98176.179355    2021.194242       48.724423     852.456874   \n",
       "std      2534.666722       2.981490       85.874160    7469.168138   \n",
       "min      1731.000000    1999.000000        0.000000       0.000000   \n",
       "25%     98052.000000    2020.000000        0.000000       0.000000   \n",
       "50%     98125.000000    2022.000000        0.000000       0.000000   \n",
       "75%     98374.000000    2023.000000       42.000000       0.000000   \n",
       "max     99577.000000    2025.000000      337.000000  845000.000000   \n",
       "\n",
       "       Legislative District  DOL Vehicle ID  2020 Census Tract  \n",
       "count         219762.000000    2.202250e+05       2.202220e+05  \n",
       "mean              28.907909    2.315541e+08       5.298061e+10  \n",
       "std               14.911386    6.983360e+07       1.524348e+09  \n",
       "min                1.000000    4.385000e+03       1.001020e+09  \n",
       "25%               17.000000    1.980609e+08       5.303301e+10  \n",
       "50%               32.000000    2.448443e+08       5.303303e+10  \n",
       "75%               42.000000    2.659792e+08       5.305307e+10  \n",
       "max               49.000000    4.792548e+08       5.602100e+10  "
      ]
     },
     "execution_count": 272,
     "metadata": {},
     "output_type": "execute_result"
    }
   ],
   "source": [
    "df.describe()"
   ]
  },
  {
   "cell_type": "code",
   "execution_count": 273,
   "id": "f38ea27a-f327-49aa-8dc0-92fc400a9a91",
   "metadata": {},
   "outputs": [
    {
     "data": {
      "text/plain": [
       "array(['Battery Electric Vehicle (BEV)',\n",
       "       'Plug-in Hybrid Electric Vehicle (PHEV)'], dtype=object)"
      ]
     },
     "execution_count": 273,
     "metadata": {},
     "output_type": "execute_result"
    }
   ],
   "source": [
    "df[\"Electric Vehicle Type\"].unique()"
   ]
  },
  {
   "cell_type": "code",
   "execution_count": 274,
   "id": "c82468f4-27ac-4383-895e-3460d30f00bc",
   "metadata": {},
   "outputs": [
    {
     "data": {
      "text/plain": [
       "array(['MODEL 3', 'X5', 'VOLT', 'ID.4', 'EV9', 'NIRO', 'R1T', 'MODEL X',\n",
       "       'PRIUS PRIME', 'LEAF', 'I3', 'WRANGLER', 'MODEL Y', 'BZ4X',\n",
       "       'MODEL S', '500', 'C-MAX', 'X3', 'XC90', 'PACIFICA', 'E-TRON',\n",
       "       'NX', '330E', 'SORENTO', 'XC60', 'CYBERTRUCK', 'TONALE',\n",
       "       'GRAND CHEROKEE', 'RAV4 PRIME', 'I-PACE', 'A3', 'FUSION',\n",
       "       'BOLT EV', 'EV6', 'CAYENNE', 'PS2', 'HARDTOP', 'CX-90', 'HORNET',\n",
       "       'COUNTRYMAN', 'I4', 'CLARITY', 'CX-70', 'I8', 'Q5', 'RX', '530E',\n",
       "       'Q5 E', 'SOUL', 'IONIQ 6', 'TUCSON', 'XM', 'SPARK', 'V60',\n",
       "       'PRIUS PLUG-IN', 'EQE-CLASS SUV', 'LYRIQ', 'EQS-CLASS SEDAN',\n",
       "       'IONIQ 5', 'F-150', 'XC40', 'ROADSTER', 'TAYCAN', 'MUSTANG MACH-E',\n",
       "       'KONA ELECTRIC', 'ARIYA', 'EQB-CLASS', 'BOLT EUV', 'SOLTERRA',\n",
       "       'IONIQ', 'R1S', 'E-TRON GT', 'EQUINOX EV', 'SANTA FE', 'BLAZER EV',\n",
       "       'EQS-CLASS SUV', 'IX', 'GLE-CLASS', 'B-CLASS', 'E-GOLF', 'RZ',\n",
       "       'FOCUS', 'Q8', 'AVIATOR', 'PROLOGUE', 'TRANSIT', 'GLC-CLASS',\n",
       "       'EQE-CLASS SEDAN', 'ESCAPE', 'OUTLANDER', 'S60', 'SPORTAGE',\n",
       "       'PANAMERA', 'C40', 'KONA', 'FORTWO ELECTRIC DRIVE',\n",
       "       'RANGE ROVER SPORT', 'AIR', 'SONATA', 'SOUL EV', 'GV60', 'Q4',\n",
       "       'E-TRON SPORTBACK', 'CORSAIR', 'I5', 'HUMMER EV SUV', 'OCEAN',\n",
       "       'ZDX', '500E', 'RAV4', 'EQ FORTWO', 'RS E-TRON GT', 'OPTIMA', 'I7',\n",
       "       'CROSSTREK', 'I-MIEV', 'ELR', 'SILVERADO EV', 'RANGE ROVER',\n",
       "       'POLESTAR 3', 'FORTWO', 'SQ8', 'MX-30', 'HUMMER EV PICKUP',\n",
       "       'C-CLASS', 'GV70', 'S-CLASS', 'EDV', 'ACCORD', 'TX', 'IONIQ 5 N',\n",
       "       '740E', 'ESPRINTER', 'CITY', 'S90', 'MACAN', 'G80', '745E', 'VF 8',\n",
       "       'A7 E', 'EX40', 'ZEVO', 'ONE', 'RANGER', 'KARMA', 'CR-V', '918',\n",
       "       '750E', 'TRANSIT CONNECT ELECTRIC', 'SPECTRE', 'FLYING SPUR',\n",
       "       'BENTAYGA', 'CT6', 'WHEEGO', 'A8 E', 'PROMASTER 3500', 'G-CLASS',\n",
       "       '745LE', 'REVUELTO'], dtype=object)"
      ]
     },
     "execution_count": 274,
     "metadata": {},
     "output_type": "execute_result"
    }
   ],
   "source": [
    "df[\"Model\"].unique()"
   ]
  },
  {
   "cell_type": "code",
   "execution_count": 275,
   "id": "e5e8aa32-ef90-4a28-8b4e-24f78403886c",
   "metadata": {},
   "outputs": [
    {
     "data": {
      "text/plain": [
       "159"
      ]
     },
     "execution_count": 275,
     "metadata": {},
     "output_type": "execute_result"
    }
   ],
   "source": [
    "df[\"Model\"].nunique()"
   ]
  },
  {
   "cell_type": "markdown",
   "id": "054d8760-6c3f-417e-9f8c-e7f6cb8480a9",
   "metadata": {},
   "source": [
    "<font color=\"blue\"><h1>There are 159 Electric Vehicle Models in this data set"
   ]
  },
  {
   "cell_type": "markdown",
   "id": "4011ecc8-4e36-497d-a019-cf3da302e180",
   "metadata": {},
   "source": [
    "<h1>Which cities and counties have the highest concentration of electric vehicles?"
   ]
  },
  {
   "cell_type": "code",
   "execution_count": 276,
   "id": "71273b1c-3515-4a42-b8fc-a7e6a4a85ed8",
   "metadata": {},
   "outputs": [
    {
     "data": {
      "text/plain": [
       "Index(['VIN (1-10)', 'County', 'City', 'State', 'Postal Code', 'Model Year',\n",
       "       'Make', 'Model', 'Electric Vehicle Type',\n",
       "       'Clean Alternative Fuel Vehicle (CAFV) Eligibility', 'Electric Range',\n",
       "       'Base MSRP', 'Legislative District', 'DOL Vehicle ID',\n",
       "       'Vehicle Location', 'Electric Utility', '2020 Census Tract'],\n",
       "      dtype='object')"
      ]
     },
     "execution_count": 276,
     "metadata": {},
     "output_type": "execute_result"
    }
   ],
   "source": [
    "df.columns"
   ]
  },
  {
   "cell_type": "code",
   "execution_count": 277,
   "id": "3919e14c-9027-4a20-959f-0eb1441dce8e",
   "metadata": {},
   "outputs": [
    {
     "data": {
      "image/png": "[encoded data removed]",
      "text/plain": [
       "<Figure size 1000x500 with 1 Axes>"
      ]
     },
     "metadata": {},
     "output_type": "display_data"
    }
   ],
   "source": [
    "top_cities = df[\"City\"].value_counts().head()\n",
    "\n",
    "plt.figure(figsize=(10, 5))\n",
    "bars = top_cities.plot(kind='bar', color='skyblue')\n",
    "\n",
    "# Adding data labels\n",
    "for bar in bars.patches:\n",
    "    plt.text(bar.get_x() + bar.get_width() / 2,  # x-coordinate\n",
    "             bar.get_height() - 0.1 if bar.get_height() > 0 else 0.1,  # y-coordinate\n",
    "             f'{int(bar.get_height())}',  # Label text\n",
    "             ha='center', va='bottom', fontsize=10, color='blue')\n",
    "\n",
    "# bars.patches : Contains each bar object in plot\n",
    "# plt.text : adds text to the plot at specified coordinates.\n",
    "# bar.get_x() : retrievs the x-coordinates (start) of the bar.\n",
    "# bar.get_width() : Width of the bar\n",
    "# bar.get_x() + bar.get_width() / 2 : Calculates the center of the bar for placing the label horizontally\n",
    "# bar.height() : retrieve the height of bar, which represent actual count\n",
    "# The general form of a ternary conditional statement in Python is: \n",
    "# value_if_true if condition else value_if_false\n",
    "# bar.get_height() - 0.1 if bar.get_height() > 0 else 0.1\n",
    "# bar.get_height() > 0 : checks height of bar is positive\n",
    "# if height is positive then \n",
    "# bar.get_height() - 0.1 - Places the label slightly below the top of the bar (subtracting 0.1 ensures some space)\n",
    "# if height is negetive or 0\n",
    "# Positions the label slightly above the baseline of the bar.\n",
    "\n",
    "plt.title(\"Top Cities by count\", fontsize=14)\n",
    "plt.xlabel(\"City\",fontsize=12)\n",
    "plt.ylabel(\"Count\",fontsize=12)\n",
    "plt.show()"
   ]
  },
  {
   "cell_type": "code",
   "execution_count": 278,
   "id": "0154fbfd-17b6-4b3a-bbc3-6ddfc0310cd7",
   "metadata": {},
   "outputs": [
    {
     "data": {
      "image/png": "[encoded data removed]",
      "text/plain": [
       "<Figure size 1000x500 with 1 Axes>"
      ]
     },
     "metadata": {},
     "output_type": "display_data"
    }
   ],
   "source": [
    "top_county = df[\"County\"].value_counts().head()\n",
    "plt.figure(figsize=(10, 5))\n",
    "bars = top_county.plot(kind='bar', color='orange')\n",
    "for bar in bars.patches:\n",
    "    plt.text(bar.get_x() + bar.get_width() / 2, # x coordinate\n",
    "             bar.get_height() - 0.1 if bar.get_height() > 0 else 0.1, # y coordinate\n",
    "             f'{int(bar.get_height())}', # label text\n",
    "             ha=\"center\", va=\"bottom\", fontsize = 10, color=\"blue\")\n",
    "\n",
    "plt.title(\"Top County by count\", fontsize=14)\n",
    "plt.xlabel(\"County\",fontsize=12)\n",
    "plt.ylabel(\"Count\",fontsize=12)\n",
    "plt.show()"
   ]
  },
  {
   "cell_type": "markdown",
   "id": "65780e31-2ef4-4ed4-b2c8-683990e4339a",
   "metadata": {
    "jp-MarkdownHeadingCollapsed": true
   },
   "source": [
    "<h1><Font color=\"blue\">Cities and Counties with Most EVs <br> Top City - Seattle - 35 K <br> Top County - King - 1 Lakhs </h1>"
   ]
  },
  {
   "cell_type": "markdown",
   "id": "dd120853-3755-44f0-8d44-af162bccdbe6",
   "metadata": {
    "jp-MarkdownHeadingCollapsed": true
   },
   "source": [
    "<h1>How does the distribution of electric vehicles vary across different states?</h1>"
   ]
  },
  {
   "cell_type": "code",
   "execution_count": 279,
   "id": "4f80e7f9-5f31-49e3-b1c8-0a0db1dd4740",
   "metadata": {},
   "outputs": [
    {
     "data": {
      "text/plain": [
       "Index(['VIN (1-10)', 'County', 'City', 'State', 'Postal Code', 'Model Year',\n",
       "       'Make', 'Model', 'Electric Vehicle Type',\n",
       "       'Clean Alternative Fuel Vehicle (CAFV) Eligibility', 'Electric Range',\n",
       "       'Base MSRP', 'Legislative District', 'DOL Vehicle ID',\n",
       "       'Vehicle Location', 'Electric Utility', '2020 Census Tract'],\n",
       "      dtype='object')"
      ]
     },
     "execution_count": 279,
     "metadata": {},
     "output_type": "execute_result"
    }
   ],
   "source": [
    "df.columns"
   ]
  },
  {
   "cell_type": "code",
   "execution_count": 280,
   "id": "099da518-0639-4923-b454-7b1eaf3c584b",
   "metadata": {},
   "outputs": [
    {
     "data": {
      "text/plain": [
       "State\n",
       "WA    99.789760\n",
       "CA     0.050403\n",
       "VA     0.027245\n",
       "MD     0.016801\n",
       "TX     0.013168\n",
       "NC     0.009082\n",
       "CO     0.007719\n",
       "FL     0.005903\n",
       "GA     0.005903\n",
       "CT     0.004541\n",
       "IL     0.004541\n",
       "AZ     0.004087\n",
       "NY     0.004087\n",
       "MA     0.003633\n",
       "NJ     0.003633\n",
       "AL     0.003633\n",
       "OR     0.003633\n",
       "NV     0.003633\n",
       "SC     0.003179\n",
       "MI     0.002724\n",
       "MO     0.002724\n",
       "PA     0.002724\n",
       "HI     0.002270\n",
       "KS     0.002270\n",
       "ID     0.002270\n",
       "KY     0.002270\n",
       "DC     0.001816\n",
       "OH     0.001816\n",
       "RI     0.001816\n",
       "TN     0.001362\n",
       "NM     0.000908\n",
       "DE     0.000908\n",
       "UT     0.000908\n",
       "ME     0.000908\n",
       "NE     0.000908\n",
       "IN     0.000908\n",
       "AR     0.000908\n",
       "MN     0.000454\n",
       "OK     0.000454\n",
       "NS     0.000454\n",
       "AE     0.000454\n",
       "WI     0.000454\n",
       "LA     0.000454\n",
       "WY     0.000454\n",
       "BC     0.000454\n",
       "MS     0.000454\n",
       "AK     0.000454\n",
       "NH     0.000454\n",
       "Name: proportion, dtype: float64"
      ]
     },
     "execution_count": 280,
     "metadata": {},
     "output_type": "execute_result"
    }
   ],
   "source": [
    "df[\"State\"].value_counts(normalize=True) * 100"
   ]
  },
  {
   "cell_type": "markdown",
   "id": "e9a85ca8-2ca0-4162-90fd-64b104cf6fda",
   "metadata": {},
   "source": [
    "<h1><b><font color=\"blue\">WA has 2 Lakhs Electric Vehicle, about 99.79% of Total Vehicles</h1>"
   ]
  },
  {
   "cell_type": "markdown",
   "id": "bff3727b-01a9-4620-a228-1911ec6182f8",
   "metadata": {},
   "source": [
    "<h1>Which electric utility companies serve the most EV owners?"
   ]
  },
  {
   "cell_type": "code",
   "execution_count": 281,
   "id": "1ffa0f84-a394-4b1d-872b-948053007750",
   "metadata": {},
   "outputs": [
    {
     "data": {
      "text/plain": [
       "Index(['VIN (1-10)', 'County', 'City', 'State', 'Postal Code', 'Model Year',\n",
       "       'Make', 'Model', 'Electric Vehicle Type',\n",
       "       'Clean Alternative Fuel Vehicle (CAFV) Eligibility', 'Electric Range',\n",
       "       'Base MSRP', 'Legislative District', 'DOL Vehicle ID',\n",
       "       'Vehicle Location', 'Electric Utility', '2020 Census Tract'],\n",
       "      dtype='object')"
      ]
     },
     "execution_count": 281,
     "metadata": {},
     "output_type": "execute_result"
    }
   ],
   "source": [
    "df.columns"
   ]
  },
  {
   "cell_type": "code",
   "execution_count": 282,
   "id": "9ae10ea1-f78b-49e5-b27c-6ffeba762edd",
   "metadata": {},
   "outputs": [
    {
     "data": {
      "image/png": "[encoded data removed]",
      "text/plain": [
       "<Figure size 640x480 with 1 Axes>"
      ]
     },
     "metadata": {},
     "output_type": "display_data"
    }
   ],
   "source": [
    "top_electric_vehicle = df[\"Electric Utility\"].value_counts().head(10)\n",
    "bars = top_electric_vehicle.plot(kind=\"bar\", color=\"red\")\n",
    "\n",
    "for bar in bars.patches:\n",
    "    plt.text(bar.get_x() + bar.get_width() / 2, \n",
    "    bar.get_height() - 0.1 if bar.get_height() > 0 else 0.1,\n",
    "    f'{int(bar.get_height())}', ha=\"center\", va=\"bottom\", fontsize=10)\n",
    "plt.show()"
   ]
  },
  {
   "cell_type": "code",
   "execution_count": 283,
   "id": "c16cf75e-2ed6-474a-a6fc-6569272853a8",
   "metadata": {},
   "outputs": [
    {
     "data": {
      "text/plain": [
       "Electric Utility\n",
       "PUGET SOUND ENERGY INC||CITY OF TACOMA - (WA)                                                                 36.354678\n",
       "PUGET SOUND ENERGY INC                                                                                        20.583320\n",
       "CITY OF SEATTLE - (WA)|CITY OF TACOMA - (WA)                                                                  17.132257\n",
       "BONNEVILLE POWER ADMINISTRATION||PUD NO 1 OF CLARK COUNTY - (WA)                                               5.854547\n",
       "BONNEVILLE POWER ADMINISTRATION||CITY OF TACOMA - (WA)||PENINSULA LIGHT COMPANY                                4.488198\n",
       "                                                                                                                ...    \n",
       "CITY OF SEATTLE - (WA)                                                                                         0.000908\n",
       "BONNEVILLE POWER ADMINISTRATION||PUD NO 1 OF JEFFERSON COUNTY                                                  0.000908\n",
       "BONNEVILLE POWER ADMINISTRATION||CITY OF TACOMA - (WA)||ALDER MUTUAL LIGHT CO, INC|PENINSULA LIGHT COMPANY     0.000908\n",
       "BONNEVILLE POWER ADMINISTRATION||PUD NO 1 OF ASOTIN COUNTY                                                     0.000454\n",
       "BONNEVILLE POWER ADMINISTRATION||PENINSULA LIGHT COMPANY                                                       0.000454\n",
       "Name: proportion, Length: 75, dtype: float64"
      ]
     },
     "execution_count": 283,
     "metadata": {},
     "output_type": "execute_result"
    }
   ],
   "source": [
    "df[\"Electric Utility\"].value_counts(normalize=True) * 100"
   ]
  },
  {
   "cell_type": "markdown",
   "id": "0e52f064-3480-43ab-85b1-bc67dbe74983",
   "metadata": {},
   "source": [
    "<h1><font color=\"blue\">PUGET SOUND ENERGY INC||CITY OF TACOMA - (WA) has most EV owners (about 80K - 36% of Total Companies)</h1>"
   ]
  },
  {
   "cell_type": "markdown",
   "id": "2d14d232-a063-40e7-8fb3-a5482c42bd03",
   "metadata": {},
   "source": [
    "<h1> How many EVs are located in each Census Tract?"
   ]
  },
  {
   "cell_type": "code",
   "execution_count": 284,
   "id": "85cb345c-576f-4550-9f29-d1afb129f472",
   "metadata": {},
   "outputs": [
    {
     "data": {
      "text/plain": [
       "Index(['VIN (1-10)', 'County', 'City', 'State', 'Postal Code', 'Model Year',\n",
       "       'Make', 'Model', 'Electric Vehicle Type',\n",
       "       'Clean Alternative Fuel Vehicle (CAFV) Eligibility', 'Electric Range',\n",
       "       'Base MSRP', 'Legislative District', 'DOL Vehicle ID',\n",
       "       'Vehicle Location', 'Electric Utility', '2020 Census Tract'],\n",
       "      dtype='object')"
      ]
     },
     "execution_count": 284,
     "metadata": {},
     "output_type": "execute_result"
    }
   ],
   "source": [
    "df.columns"
   ]
  },
  {
   "cell_type": "code",
   "execution_count": 285,
   "id": "95115063-ed85-46f2-aa0b-f6368fe06ae2",
   "metadata": {},
   "outputs": [
    {
     "data": {
      "text/plain": [
       "2020 Census Tract\n",
       "5.303303e+10    2631\n",
       "5.303303e+10    1171\n",
       "5.303303e+10     931\n",
       "5.303301e+10     864\n",
       "5.306701e+10     820\n",
       "Name: count, dtype: int64"
      ]
     },
     "execution_count": 285,
     "metadata": {},
     "output_type": "execute_result"
    }
   ],
   "source": [
    "df[\"2020 Census Tract\"].value_counts().head()"
   ]
  },
  {
   "cell_type": "code",
   "execution_count": 286,
   "id": "7f62f988-5f35-4a3a-998e-88fbed87daa5",
   "metadata": {},
   "outputs": [
    {
     "data": {
      "text/plain": [
       "2020 Census Tract\n",
       "5.303303e+10    2631\n",
       "5.303303e+10    1171\n",
       "5.303303e+10     931\n",
       "5.303301e+10     864\n",
       "5.306701e+10     820\n",
       "                ... \n",
       "6.073001e+09       1\n",
       "2.403380e+10       1\n",
       "3.200300e+10       1\n",
       "2.116397e+10       1\n",
       "6.073011e+09       1\n",
       "Name: count, Length: 2184, dtype: int64"
      ]
     },
     "execution_count": 286,
     "metadata": {},
     "output_type": "execute_result"
    }
   ],
   "source": [
    "df[\"2020 Census Tract\"].value_counts()"
   ]
  },
  {
   "cell_type": "markdown",
   "id": "edb6992c-c96e-4df8-8149-011d28e74fb5",
   "metadata": {},
   "source": [
    "<h1><font color=\"blue\">5.303303e+10 have most EVs"
   ]
  },
  {
   "cell_type": "markdown",
   "id": "64101256-fefd-48de-9c40-2d6b42f8fa28",
   "metadata": {},
   "source": [
    "<h1>Which vehicle make has the highest average electric range?</h1>"
   ]
  },
  {
   "cell_type": "code",
   "execution_count": 287,
   "id": "e7b69c30-7704-467f-bc06-d2a50188a58a",
   "metadata": {},
   "outputs": [
    {
     "data": {
      "text/plain": [
       "Index(['VIN (1-10)', 'County', 'City', 'State', 'Postal Code', 'Model Year',\n",
       "       'Make', 'Model', 'Electric Vehicle Type',\n",
       "       'Clean Alternative Fuel Vehicle (CAFV) Eligibility', 'Electric Range',\n",
       "       'Base MSRP', 'Legislative District', 'DOL Vehicle ID',\n",
       "       'Vehicle Location', 'Electric Utility', '2020 Census Tract'],\n",
       "      dtype='object')"
      ]
     },
     "execution_count": 287,
     "metadata": {},
     "output_type": "execute_result"
    }
   ],
   "source": [
    "df.columns"
   ]
  },
  {
   "cell_type": "code",
   "execution_count": 288,
   "id": "04072726-e3b8-4e2f-80e8-0aca4e520e7f",
   "metadata": {},
   "outputs": [
    {
     "data": {
      "text/plain": [
       "Make\n",
       "JAGUAR                  199.296610\n",
       "WHEEGO ELECTRIC CARS    100.000000\n",
       "TH!NK                   100.000000\n",
       "CHEVROLET                86.357826\n",
       "FIAT                     80.165000\n",
       "Name: Electric Range, dtype: float64"
      ]
     },
     "execution_count": 288,
     "metadata": {},
     "output_type": "execute_result"
    }
   ],
   "source": [
    "df.groupby(\"Make\")[\"Electric Range\"].mean().sort_values(ascending=False).head()"
   ]
  },
  {
   "cell_type": "markdown",
   "id": "9996b328-d335-44b9-8bba-eb0ce6a15362",
   "metadata": {},
   "source": [
    "<h1><font color=\"blue\">JAGUAR gives highest avg electric range - 199 Km/hr</h1>"
   ]
  },
  {
   "cell_type": "markdown",
   "id": "0605e8cc-0d2c-42f0-a0e0-d162240b9ba4",
   "metadata": {},
   "source": [
    "<h1>What is the most common type of electric vehicle?"
   ]
  },
  {
   "cell_type": "code",
   "execution_count": 289,
   "id": "d4d27d3e-9e36-483c-8c7c-0b1f801968a7",
   "metadata": {},
   "outputs": [
    {
     "data": {
      "text/plain": [
       "Index(['VIN (1-10)', 'County', 'City', 'State', 'Postal Code', 'Model Year',\n",
       "       'Make', 'Model', 'Electric Vehicle Type',\n",
       "       'Clean Alternative Fuel Vehicle (CAFV) Eligibility', 'Electric Range',\n",
       "       'Base MSRP', 'Legislative District', 'DOL Vehicle ID',\n",
       "       'Vehicle Location', 'Electric Utility', '2020 Census Tract'],\n",
       "      dtype='object')"
      ]
     },
     "execution_count": 289,
     "metadata": {},
     "output_type": "execute_result"
    }
   ],
   "source": [
    "df.columns"
   ]
  },
  {
   "cell_type": "code",
   "execution_count": 290,
   "id": "fa744d39-5355-479a-ac17-f8d29ec12305",
   "metadata": {},
   "outputs": [
    {
     "data": {
      "text/plain": [
       "Electric Vehicle Type\n",
       "Battery Electric Vehicle (BEV)            174212\n",
       "Plug-in Hybrid Electric Vehicle (PHEV)     46013\n",
       "Name: count, dtype: int64"
      ]
     },
     "execution_count": 290,
     "metadata": {},
     "output_type": "execute_result"
    }
   ],
   "source": [
    "df[\"Electric Vehicle Type\"].value_counts()"
   ]
  },
  {
   "cell_type": "code",
   "execution_count": 291,
   "id": "d4ca41f4-8d01-4f53-be7e-b98751f23233",
   "metadata": {},
   "outputs": [
    {
     "data": {
      "image/png": "[encoded data removed]",
      "text/plain": [
       "<Figure size 300x300 with 1 Axes>"
      ]
     },
     "metadata": {},
     "output_type": "display_data"
    }
   ],
   "source": [
    "et_type = df[\"Electric Vehicle Type\"].value_counts(normalize=True) * 100\n",
    "plt.figure(figsize=(3,3))\n",
    "plt.pie(et_type, autopct='%1.1f%%',  labels=et_type.index)\n",
    "plt.title(\"Distribution of Electric Vehicle Types\")\n",
    "plt.show()"
   ]
  },
  {
   "cell_type": "markdown",
   "id": "13cbaded-552c-4f8c-83c5-a1047bb98e9f",
   "metadata": {},
   "source": [
    "<h1><font color=\"blue\">Battery Electric Vehicle (BEV) is most commonly used  (about 79%)</h1>"
   ]
  },
  {
   "cell_type": "markdown",
   "id": "89f21ae9-4e18-4751-a530-3647a8da77d7",
   "metadata": {},
   "source": [
    "<h1>Top Manufacturers of CAFV-Eligible Vehicles"
   ]
  },
  {
   "cell_type": "code",
   "execution_count": 292,
   "id": "bc36fa57-811a-4541-990f-9d2db9a812fb",
   "metadata": {},
   "outputs": [
    {
     "data": {
      "text/plain": [
       "Index(['VIN (1-10)', 'County', 'City', 'State', 'Postal Code', 'Model Year',\n",
       "       'Make', 'Model', 'Electric Vehicle Type',\n",
       "       'Clean Alternative Fuel Vehicle (CAFV) Eligibility', 'Electric Range',\n",
       "       'Base MSRP', 'Legislative District', 'DOL Vehicle ID',\n",
       "       'Vehicle Location', 'Electric Utility', '2020 Census Tract'],\n",
       "      dtype='object')"
      ]
     },
     "execution_count": 292,
     "metadata": {},
     "output_type": "execute_result"
    }
   ],
   "source": [
    "df.columns"
   ]
  },
  {
   "cell_type": "code",
   "execution_count": 293,
   "id": "789644be-de19-424b-9d56-6b4764025b13",
   "metadata": {},
   "outputs": [],
   "source": [
    "top_cafv_makes = df[df[\"Clean Alternative Fuel Vehicle (CAFV) Eligibility\"] == \"Clean Alternative Fuel Vehicle Eligible\"][\"Make\"].value_counts().head()"
   ]
  },
  {
   "cell_type": "code",
   "execution_count": 294,
   "id": "4274876d-cdb1-43cd-aa27-cb9356d861ff",
   "metadata": {},
   "outputs": [
    {
     "data": {
      "text/plain": [
       "Make\n",
       "TESLA        25304\n",
       "NISSAN       10414\n",
       "CHEVROLET     9714\n",
       "BMW           4175\n",
       "TOYOTA        3977\n",
       "Name: count, dtype: int64"
      ]
     },
     "execution_count": 294,
     "metadata": {},
     "output_type": "execute_result"
    }
   ],
   "source": [
    "top_cafv_makes"
   ]
  },
  {
   "cell_type": "code",
   "execution_count": 295,
   "id": "b8849f54-e6dc-4ad8-bee8-fc408c32fee4",
   "metadata": {},
   "outputs": [
    {
     "data": {
      "image/png": "[encoded data removed]",
      "text/plain": [
       "<Figure size 300x300 with 1 Axes>"
      ]
     },
     "metadata": {},
     "output_type": "display_data"
    }
   ],
   "source": [
    "plt.figure(figsize=(3,3))\n",
    "plt.pie(top_cafv_makes, autopct='%1.1f%%',  labels=top_cafv_makes.index)\n",
    "plt.title(\"Distribution of Electric Vehicle Types\")\n",
    "plt.show()"
   ]
  },
  {
   "cell_type": "markdown",
   "id": "336a1137-1ea3-4e82-8e3e-a4eda7b4f48d",
   "metadata": {},
   "source": [
    "<h1><Font color=\"blue\">Tesla is Top Manufacturer of CAFV-Eligible Vehicles</h1>"
   ]
  },
  {
   "cell_type": "markdown",
   "id": "c88cea63-386b-4d3c-9c30-b03d6a9fbc91",
   "metadata": {},
   "source": [
    "<h1>What is the average Base MSRP of electric vehicles by model year?</h1>"
   ]
  },
  {
   "cell_type": "markdown",
   "id": "7f33130a-edac-4c2a-9a4b-aabaec72cbe2",
   "metadata": {},
   "source": [
    "<p>Base MSRP stands for <b>Manufacturer's Suggested Retail Price</b> It is the starting price of a vehicle (or product) as suggested by the manufacturer before adding optional features, taxes, fees, and other costs.</p>"
   ]
  },
  {
   "cell_type": "code",
   "execution_count": 296,
   "id": "4481e001-9fbe-4f36-9cd6-5df2b67ed811",
   "metadata": {},
   "outputs": [
    {
     "data": {
      "text/plain": [
       "Index(['VIN (1-10)', 'County', 'City', 'State', 'Postal Code', 'Model Year',\n",
       "       'Make', 'Model', 'Electric Vehicle Type',\n",
       "       'Clean Alternative Fuel Vehicle (CAFV) Eligibility', 'Electric Range',\n",
       "       'Base MSRP', 'Legislative District', 'DOL Vehicle ID',\n",
       "       'Vehicle Location', 'Electric Utility', '2020 Census Tract'],\n",
       "      dtype='object')"
      ]
     },
     "execution_count": 296,
     "metadata": {},
     "output_type": "execute_result"
    }
   ],
   "source": [
    "df.columns"
   ]
  },
  {
   "cell_type": "code",
   "execution_count": 297,
   "id": "7608aa99-cc5b-43fd-bc3e-aafcd7682426",
   "metadata": {},
   "outputs": [
    {
     "data": {
      "image/png": "[encoded data removed]",
      "text/plain": [
       "<Figure size 1000x300 with 1 Axes>"
      ]
     },
     "metadata": {},
     "output_type": "display_data"
    }
   ],
   "source": [
    "avg_base_msrp = df.groupby(\"Model Year\")[\"Base MSRP\"].mean().round(2)\n",
    "plt.figure(figsize=(10,3))\n",
    "bars = avg_base_msrp.plot(kind=\"bar\", color=\"orange\")\n",
    "for bar in bars.patches:\n",
    "    plt.text(bar.get_x() + bar.get_width() / 2,\n",
    "             bar.get_height() - 0.1 if bar.get_height() > 0 else 0.1,\n",
    "             f\"{int(bar.get_height())}\",\n",
    "             ha=\"center\", va=\"bottom\", fontsize=7)\n",
    "plt.show()"
   ]
  },
  {
   "cell_type": "markdown",
   "id": "07c6278e-06a9-4b11-827e-370c06348001",
   "metadata": {},
   "source": [
    "<h3><font color=\"blue\">In 2008 (94,647) and 2010 (1,01,205) the base MSRP is outlier"
   ]
  },
  {
   "cell_type": "code",
   "execution_count": 298,
   "id": "2281fc71-b45a-4041-bea3-640913419ee8",
   "metadata": {},
   "outputs": [
    {
     "data": {
      "text/html": [
       "<div>\n",
       "<style scoped>\n",
       "    .dataframe tbody tr th:only-of-type {\n",
       "        vertical-align: middle;\n",
       "    }\n",
       "\n",
       "    .dataframe tbody tr th {\n",
       "        vertical-align: top;\n",
       "    }\n",
       "\n",
       "    .dataframe thead th {\n",
       "        text-align: right;\n",
       "    }\n",
       "</style>\n",
       "<table border=\"1\" class=\"dataframe\">\n",
       "  <thead>\n",
       "    <tr style=\"text-align: right;\">\n",
       "      <th></th>\n",
       "      <th>Model Year</th>\n",
       "      <th>Base MSRP</th>\n",
       "      <th>Make</th>\n",
       "    </tr>\n",
       "  </thead>\n",
       "  <tbody>\n",
       "    <tr>\n",
       "      <th>311</th>\n",
       "      <td>2010</td>\n",
       "      <td>110950</td>\n",
       "      <td>TESLA</td>\n",
       "    </tr>\n",
       "    <tr>\n",
       "      <th>2782</th>\n",
       "      <td>2008</td>\n",
       "      <td>98950</td>\n",
       "      <td>TESLA</td>\n",
       "    </tr>\n",
       "    <tr>\n",
       "      <th>11627</th>\n",
       "      <td>2010</td>\n",
       "      <td>110950</td>\n",
       "      <td>TESLA</td>\n",
       "    </tr>\n",
       "    <tr>\n",
       "      <th>11678</th>\n",
       "      <td>2008</td>\n",
       "      <td>98950</td>\n",
       "      <td>TESLA</td>\n",
       "    </tr>\n",
       "    <tr>\n",
       "      <th>15084</th>\n",
       "      <td>2008</td>\n",
       "      <td>98950</td>\n",
       "      <td>TESLA</td>\n",
       "    </tr>\n",
       "    <tr>\n",
       "      <th>16296</th>\n",
       "      <td>2008</td>\n",
       "      <td>98950</td>\n",
       "      <td>TESLA</td>\n",
       "    </tr>\n",
       "    <tr>\n",
       "      <th>16529</th>\n",
       "      <td>2008</td>\n",
       "      <td>98950</td>\n",
       "      <td>TESLA</td>\n",
       "    </tr>\n",
       "    <tr>\n",
       "      <th>23506</th>\n",
       "      <td>2010</td>\n",
       "      <td>110950</td>\n",
       "      <td>TESLA</td>\n",
       "    </tr>\n",
       "    <tr>\n",
       "      <th>24171</th>\n",
       "      <td>2010</td>\n",
       "      <td>110950</td>\n",
       "      <td>TESLA</td>\n",
       "    </tr>\n",
       "    <tr>\n",
       "      <th>32894</th>\n",
       "      <td>2010</td>\n",
       "      <td>110950</td>\n",
       "      <td>TESLA</td>\n",
       "    </tr>\n",
       "    <tr>\n",
       "      <th>36088</th>\n",
       "      <td>2010</td>\n",
       "      <td>110950</td>\n",
       "      <td>TESLA</td>\n",
       "    </tr>\n",
       "    <tr>\n",
       "      <th>44602</th>\n",
       "      <td>2010</td>\n",
       "      <td>110950</td>\n",
       "      <td>TESLA</td>\n",
       "    </tr>\n",
       "    <tr>\n",
       "      <th>52197</th>\n",
       "      <td>2010</td>\n",
       "      <td>110950</td>\n",
       "      <td>TESLA</td>\n",
       "    </tr>\n",
       "    <tr>\n",
       "      <th>54712</th>\n",
       "      <td>2008</td>\n",
       "      <td>98950</td>\n",
       "      <td>TESLA</td>\n",
       "    </tr>\n",
       "    <tr>\n",
       "      <th>65046</th>\n",
       "      <td>2008</td>\n",
       "      <td>98950</td>\n",
       "      <td>TESLA</td>\n",
       "    </tr>\n",
       "    <tr>\n",
       "      <th>66277</th>\n",
       "      <td>2008</td>\n",
       "      <td>98950</td>\n",
       "      <td>TESLA</td>\n",
       "    </tr>\n",
       "    <tr>\n",
       "      <th>68745</th>\n",
       "      <td>2010</td>\n",
       "      <td>110950</td>\n",
       "      <td>TESLA</td>\n",
       "    </tr>\n",
       "    <tr>\n",
       "      <th>71010</th>\n",
       "      <td>2008</td>\n",
       "      <td>98950</td>\n",
       "      <td>TESLA</td>\n",
       "    </tr>\n",
       "    <tr>\n",
       "      <th>72043</th>\n",
       "      <td>2010</td>\n",
       "      <td>110950</td>\n",
       "      <td>TESLA</td>\n",
       "    </tr>\n",
       "    <tr>\n",
       "      <th>72155</th>\n",
       "      <td>2010</td>\n",
       "      <td>110950</td>\n",
       "      <td>TESLA</td>\n",
       "    </tr>\n",
       "    <tr>\n",
       "      <th>79781</th>\n",
       "      <td>2010</td>\n",
       "      <td>110950</td>\n",
       "      <td>TESLA</td>\n",
       "    </tr>\n",
       "    <tr>\n",
       "      <th>83270</th>\n",
       "      <td>2010</td>\n",
       "      <td>110950</td>\n",
       "      <td>TESLA</td>\n",
       "    </tr>\n",
       "    <tr>\n",
       "      <th>86293</th>\n",
       "      <td>2008</td>\n",
       "      <td>98950</td>\n",
       "      <td>TESLA</td>\n",
       "    </tr>\n",
       "    <tr>\n",
       "      <th>89515</th>\n",
       "      <td>2010</td>\n",
       "      <td>110950</td>\n",
       "      <td>TESLA</td>\n",
       "    </tr>\n",
       "    <tr>\n",
       "      <th>92329</th>\n",
       "      <td>2008</td>\n",
       "      <td>98950</td>\n",
       "      <td>TESLA</td>\n",
       "    </tr>\n",
       "    <tr>\n",
       "      <th>111329</th>\n",
       "      <td>2008</td>\n",
       "      <td>98950</td>\n",
       "      <td>TESLA</td>\n",
       "    </tr>\n",
       "    <tr>\n",
       "      <th>111383</th>\n",
       "      <td>2008</td>\n",
       "      <td>98950</td>\n",
       "      <td>TESLA</td>\n",
       "    </tr>\n",
       "    <tr>\n",
       "      <th>112124</th>\n",
       "      <td>2010</td>\n",
       "      <td>32995</td>\n",
       "      <td>WHEEGO ELECTRIC CARS</td>\n",
       "    </tr>\n",
       "    <tr>\n",
       "      <th>119098</th>\n",
       "      <td>2010</td>\n",
       "      <td>32995</td>\n",
       "      <td>WHEEGO ELECTRIC CARS</td>\n",
       "    </tr>\n",
       "    <tr>\n",
       "      <th>120486</th>\n",
       "      <td>2008</td>\n",
       "      <td>98950</td>\n",
       "      <td>TESLA</td>\n",
       "    </tr>\n",
       "    <tr>\n",
       "      <th>121310</th>\n",
       "      <td>2008</td>\n",
       "      <td>0</td>\n",
       "      <td>TESLA</td>\n",
       "    </tr>\n",
       "    <tr>\n",
       "      <th>132083</th>\n",
       "      <td>2010</td>\n",
       "      <td>110950</td>\n",
       "      <td>TESLA</td>\n",
       "    </tr>\n",
       "    <tr>\n",
       "      <th>136735</th>\n",
       "      <td>2008</td>\n",
       "      <td>98950</td>\n",
       "      <td>TESLA</td>\n",
       "    </tr>\n",
       "    <tr>\n",
       "      <th>149702</th>\n",
       "      <td>2008</td>\n",
       "      <td>98950</td>\n",
       "      <td>TESLA</td>\n",
       "    </tr>\n",
       "    <tr>\n",
       "      <th>153317</th>\n",
       "      <td>2008</td>\n",
       "      <td>98950</td>\n",
       "      <td>TESLA</td>\n",
       "    </tr>\n",
       "    <tr>\n",
       "      <th>158303</th>\n",
       "      <td>2008</td>\n",
       "      <td>98950</td>\n",
       "      <td>TESLA</td>\n",
       "    </tr>\n",
       "    <tr>\n",
       "      <th>162142</th>\n",
       "      <td>2010</td>\n",
       "      <td>110950</td>\n",
       "      <td>TESLA</td>\n",
       "    </tr>\n",
       "    <tr>\n",
       "      <th>166954</th>\n",
       "      <td>2008</td>\n",
       "      <td>98950</td>\n",
       "      <td>TESLA</td>\n",
       "    </tr>\n",
       "    <tr>\n",
       "      <th>169273</th>\n",
       "      <td>2010</td>\n",
       "      <td>110950</td>\n",
       "      <td>TESLA</td>\n",
       "    </tr>\n",
       "    <tr>\n",
       "      <th>169338</th>\n",
       "      <td>2008</td>\n",
       "      <td>98950</td>\n",
       "      <td>TESLA</td>\n",
       "    </tr>\n",
       "    <tr>\n",
       "      <th>173209</th>\n",
       "      <td>2010</td>\n",
       "      <td>110950</td>\n",
       "      <td>TESLA</td>\n",
       "    </tr>\n",
       "    <tr>\n",
       "      <th>188403</th>\n",
       "      <td>2010</td>\n",
       "      <td>32995</td>\n",
       "      <td>WHEEGO ELECTRIC CARS</td>\n",
       "    </tr>\n",
       "    <tr>\n",
       "      <th>189187</th>\n",
       "      <td>2010</td>\n",
       "      <td>110950</td>\n",
       "      <td>TESLA</td>\n",
       "    </tr>\n",
       "    <tr>\n",
       "      <th>197400</th>\n",
       "      <td>2008</td>\n",
       "      <td>98950</td>\n",
       "      <td>TESLA</td>\n",
       "    </tr>\n",
       "    <tr>\n",
       "      <th>203400</th>\n",
       "      <td>2008</td>\n",
       "      <td>98950</td>\n",
       "      <td>TESLA</td>\n",
       "    </tr>\n",
       "    <tr>\n",
       "      <th>215166</th>\n",
       "      <td>2010</td>\n",
       "      <td>110950</td>\n",
       "      <td>TESLA</td>\n",
       "    </tr>\n",
       "    <tr>\n",
       "      <th>217042</th>\n",
       "      <td>2010</td>\n",
       "      <td>110950</td>\n",
       "      <td>TESLA</td>\n",
       "    </tr>\n",
       "  </tbody>\n",
       "</table>\n",
       "</div>"
      ],
      "text/plain": [
       "        Model Year  Base MSRP                  Make\n",
       "311           2010     110950                 TESLA\n",
       "2782          2008      98950                 TESLA\n",
       "11627         2010     110950                 TESLA\n",
       "11678         2008      98950                 TESLA\n",
       "15084         2008      98950                 TESLA\n",
       "16296         2008      98950                 TESLA\n",
       "16529         2008      98950                 TESLA\n",
       "23506         2010     110950                 TESLA\n",
       "24171         2010     110950                 TESLA\n",
       "32894         2010     110950                 TESLA\n",
       "36088         2010     110950                 TESLA\n",
       "44602         2010     110950                 TESLA\n",
       "52197         2010     110950                 TESLA\n",
       "54712         2008      98950                 TESLA\n",
       "65046         2008      98950                 TESLA\n",
       "66277         2008      98950                 TESLA\n",
       "68745         2010     110950                 TESLA\n",
       "71010         2008      98950                 TESLA\n",
       "72043         2010     110950                 TESLA\n",
       "72155         2010     110950                 TESLA\n",
       "79781         2010     110950                 TESLA\n",
       "83270         2010     110950                 TESLA\n",
       "86293         2008      98950                 TESLA\n",
       "89515         2010     110950                 TESLA\n",
       "92329         2008      98950                 TESLA\n",
       "111329        2008      98950                 TESLA\n",
       "111383        2008      98950                 TESLA\n",
       "112124        2010      32995  WHEEGO ELECTRIC CARS\n",
       "119098        2010      32995  WHEEGO ELECTRIC CARS\n",
       "120486        2008      98950                 TESLA\n",
       "121310        2008          0                 TESLA\n",
       "132083        2010     110950                 TESLA\n",
       "136735        2008      98950                 TESLA\n",
       "149702        2008      98950                 TESLA\n",
       "153317        2008      98950                 TESLA\n",
       "158303        2008      98950                 TESLA\n",
       "162142        2010     110950                 TESLA\n",
       "166954        2008      98950                 TESLA\n",
       "169273        2010     110950                 TESLA\n",
       "169338        2008      98950                 TESLA\n",
       "173209        2010     110950                 TESLA\n",
       "188403        2010      32995  WHEEGO ELECTRIC CARS\n",
       "189187        2010     110950                 TESLA\n",
       "197400        2008      98950                 TESLA\n",
       "203400        2008      98950                 TESLA\n",
       "215166        2010     110950                 TESLA\n",
       "217042        2010     110950                 TESLA"
      ]
     },
     "execution_count": 298,
     "metadata": {},
     "output_type": "execute_result"
    }
   ],
   "source": [
    "df[df['Model Year'].isin([2008,2010])][['Model Year', 'Base MSRP',\"Make\"]]"
   ]
  },
  {
   "cell_type": "code",
   "execution_count": 299,
   "id": "36b56b3d-8d5f-43b2-b5f1-174f6cfa142c",
   "metadata": {},
   "outputs": [
    {
     "data": {
      "text/plain": [
       "0         2020\n",
       "3         2018\n",
       "7         2020\n",
       "11        2018\n",
       "15        2020\n",
       "          ... \n",
       "220217    2024\n",
       "220219    2023\n",
       "220221    2018\n",
       "220222    2019\n",
       "220224    2018\n",
       "Name: Model Year, Length: 95378, dtype: int64"
      ]
     },
     "execution_count": 299,
     "metadata": {},
     "output_type": "execute_result"
    }
   ],
   "source": [
    "df[df[\"Make\"].isin([\"TESLA\"])][\"Model Year\"]"
   ]
  },
  {
   "cell_type": "markdown",
   "id": "0a052174-7661-40aa-80c5-9bb13137d0a9",
   "metadata": {},
   "source": [
    "<h1><font color=\"blue\">In 2008 and 2010 Most of ev manufactured TESLA, that why base MSRP is large</h1>"
   ]
  },
  {
   "cell_type": "markdown",
   "id": "fcb9bbe8-dd2f-46c6-b008-0089ee213e7e",
   "metadata": {},
   "source": [
    "<h1>How does Base MSRP correlate with Electric Range?</h1>"
   ]
  },
  {
   "cell_type": "code",
   "execution_count": 300,
   "id": "dd8b1b4a-13b4-4c2d-8f6c-ac25cebba6e8",
   "metadata": {},
   "outputs": [
    {
     "data": {
      "text/plain": [
       "Index(['VIN (1-10)', 'County', 'City', 'State', 'Postal Code', 'Model Year',\n",
       "       'Make', 'Model', 'Electric Vehicle Type',\n",
       "       'Clean Alternative Fuel Vehicle (CAFV) Eligibility', 'Electric Range',\n",
       "       'Base MSRP', 'Legislative District', 'DOL Vehicle ID',\n",
       "       'Vehicle Location', 'Electric Utility', '2020 Census Tract'],\n",
       "      dtype='object')"
      ]
     },
     "execution_count": 300,
     "metadata": {},
     "output_type": "execute_result"
    }
   ],
   "source": [
    "df.columns"
   ]
  },
  {
   "cell_type": "code",
   "execution_count": 301,
   "id": "49a82b4d-a1bf-42d9-bcb3-ad927edacc05",
   "metadata": {},
   "outputs": [
    {
     "data": {
      "text/html": [
       "<div>\n",
       "<style scoped>\n",
       "    .dataframe tbody tr th:only-of-type {\n",
       "        vertical-align: middle;\n",
       "    }\n",
       "\n",
       "    .dataframe tbody tr th {\n",
       "        vertical-align: top;\n",
       "    }\n",
       "\n",
       "    .dataframe thead th {\n",
       "        text-align: right;\n",
       "    }\n",
       "</style>\n",
       "<table border=\"1\" class=\"dataframe\">\n",
       "  <thead>\n",
       "    <tr style=\"text-align: right;\">\n",
       "      <th></th>\n",
       "      <th>Base MSRP</th>\n",
       "      <th>Electric Range</th>\n",
       "    </tr>\n",
       "  </thead>\n",
       "  <tbody>\n",
       "    <tr>\n",
       "      <th>Base MSRP</th>\n",
       "      <td>1.000000</td>\n",
       "      <td>0.115324</td>\n",
       "    </tr>\n",
       "    <tr>\n",
       "      <th>Electric Range</th>\n",
       "      <td>0.115324</td>\n",
       "      <td>1.000000</td>\n",
       "    </tr>\n",
       "  </tbody>\n",
       "</table>\n",
       "</div>"
      ],
      "text/plain": [
       "                Base MSRP  Electric Range\n",
       "Base MSRP        1.000000        0.115324\n",
       "Electric Range   0.115324        1.000000"
      ]
     },
     "execution_count": 301,
     "metadata": {},
     "output_type": "execute_result"
    }
   ],
   "source": [
    "df[[\"Base MSRP\", \"Electric Range\"]].corr()"
   ]
  },
  {
   "cell_type": "code",
   "execution_count": 302,
   "id": "f3306fd3-adb3-43f9-9438-15540f8ca50f",
   "metadata": {},
   "outputs": [
    {
     "data": {
      "image/png": "[encoded data removed]",
      "text/plain": [
       "<Figure size 640x480 with 1 Axes>"
      ]
     },
     "metadata": {},
     "output_type": "display_data"
    }
   ],
   "source": [
    "plt.scatter(df['Electric Range'], df['Base MSRP'], alpha=0.6, color='blue')\n",
    "plt.title('Base MSRP vs Electric Range')\n",
    "plt.xlabel('Electric Range (miles)')\n",
    "plt.ylabel('Base MSRP ($)')\n",
    "plt.grid()\n",
    "plt.show()"
   ]
  },
  {
   "cell_type": "code",
   "execution_count": 303,
   "id": "8a1b7121-e8f5-40c6-b508-d1e389b10480",
   "metadata": {},
   "outputs": [
    {
     "data": {
      "text/plain": [
       "Price Range\n",
       "Low        67.561346\n",
       "Mid       143.715367\n",
       "High      113.362832\n",
       "Luxury     14.000000\n",
       "Name: Electric Range, dtype: float64"
      ]
     },
     "execution_count": 303,
     "metadata": {},
     "output_type": "execute_result"
    }
   ],
   "source": [
    "df['Price Range'] = pd.cut(df['Base MSRP'], bins=[0, 40000, 80000, 120000, 200000], labels=['Low', 'Mid', 'High', 'Luxury'])\n",
    "df.groupby('Price Range', observed=False)['Electric Range'].mean()"
   ]
  },
  {
   "cell_type": "code",
   "execution_count": 304,
   "id": "ad49a755-4589-4de8-9124-af544057a4fa",
   "metadata": {},
   "outputs": [
    {
     "data": {
      "text/html": [
       "<div>\n",
       "<style scoped>\n",
       "    .dataframe tbody tr th:only-of-type {\n",
       "        vertical-align: middle;\n",
       "    }\n",
       "\n",
       "    .dataframe tbody tr th {\n",
       "        vertical-align: top;\n",
       "    }\n",
       "\n",
       "    .dataframe thead th {\n",
       "        text-align: right;\n",
       "    }\n",
       "</style>\n",
       "<table border=\"1\" class=\"dataframe\">\n",
       "  <thead>\n",
       "    <tr style=\"text-align: right;\">\n",
       "      <th></th>\n",
       "      <th>Base MSRP</th>\n",
       "      <th>Electric Range</th>\n",
       "    </tr>\n",
       "  </thead>\n",
       "  <tbody>\n",
       "    <tr>\n",
       "      <th>Base MSRP</th>\n",
       "      <td>1.000000</td>\n",
       "      <td>0.121521</td>\n",
       "    </tr>\n",
       "    <tr>\n",
       "      <th>Electric Range</th>\n",
       "      <td>0.121521</td>\n",
       "      <td>1.000000</td>\n",
       "    </tr>\n",
       "  </tbody>\n",
       "</table>\n",
       "</div>"
      ],
      "text/plain": [
       "                Base MSRP  Electric Range\n",
       "Base MSRP        1.000000        0.121521\n",
       "Electric Range   0.121521        1.000000"
      ]
     },
     "execution_count": 304,
     "metadata": {},
     "output_type": "execute_result"
    }
   ],
   "source": [
    "filtered_df = df[df['Base MSRP'] < 120000]\n",
    "filtered_df[['Base MSRP', 'Electric Range']].corr()"
   ]
  },
  {
   "cell_type": "markdown",
   "id": "002f8b74-d7a1-492e-9067-39d6997105a0",
   "metadata": {},
   "source": [
    "<h3><font color=\"blue\">The value 0.115 indicates a very weak positive correlation. <br>The electric range does not heavily influence the base MSRP.<br>Some manufacturers may price vehicles based on brand perception or additional features rather than the electric range alone.</h1>"
   ]
  },
  {
   "cell_type": "markdown",
   "id": "17a3f705-75ef-49ef-bd8a-9fb74c3895aa",
   "metadata": {},
   "source": [
    "<h1>Is there a trend between newer model years and CAFV eligibility?</h1>"
   ]
  },
  {
   "cell_type": "code",
   "execution_count": 305,
   "id": "96399ea3-e25c-4409-8437-e42d38dfc8ce",
   "metadata": {},
   "outputs": [
    {
     "data": {
      "text/plain": [
       "Index(['VIN (1-10)', 'County', 'City', 'State', 'Postal Code', 'Model Year',\n",
       "       'Make', 'Model', 'Electric Vehicle Type',\n",
       "       'Clean Alternative Fuel Vehicle (CAFV) Eligibility', 'Electric Range',\n",
       "       'Base MSRP', 'Legislative District', 'DOL Vehicle ID',\n",
       "       'Vehicle Location', 'Electric Utility', '2020 Census Tract',\n",
       "       'Price Range'],\n",
       "      dtype='object')"
      ]
     },
     "execution_count": 305,
     "metadata": {},
     "output_type": "execute_result"
    }
   ],
   "source": [
    "df.columns"
   ]
  },
  {
   "cell_type": "code",
   "execution_count": 306,
   "id": "7c6ebbf5-be09-45f9-abc1-7a9e8a44c37d",
   "metadata": {},
   "outputs": [
    {
     "data": {
      "text/plain": [
       "Model Year\n",
       "1999        2\n",
       "2000        7\n",
       "2002        2\n",
       "2003        1\n",
       "2008       22\n",
       "2010       24\n",
       "2011      696\n",
       "2012     1162\n",
       "2013     3472\n",
       "2014     2680\n",
       "2015     4038\n",
       "2016     4106\n",
       "2017     6068\n",
       "2018    11955\n",
       "2019     9265\n",
       "2020    10764\n",
       "2021     2363\n",
       "2022     2529\n",
       "2023     5063\n",
       "2024     6010\n",
       "2025      787\n",
       "Name: count, dtype: int64"
      ]
     },
     "execution_count": 306,
     "metadata": {},
     "output_type": "execute_result"
    }
   ],
   "source": [
    "cafv_trend = df[df['Clean Alternative Fuel Vehicle (CAFV) Eligibility'] == 'Clean Alternative Fuel Vehicle Eligible']\n",
    "cafv_count_by_year = cafv_trend['Model Year'].value_counts().sort_index()\n",
    "cafv_count_by_year"
   ]
  },
  {
   "cell_type": "code",
   "execution_count": 307,
   "id": "4ff4949f-3bb9-4b87-8889-ddf70838e87f",
   "metadata": {},
   "outputs": [
    {
     "data": {
      "image/png": "[encoded data removed]",
      "text/plain": [
       "<Figure size 1000x300 with 1 Axes>"
      ]
     },
     "metadata": {},
     "output_type": "display_data"
    }
   ],
   "source": [
    "plt.figure(figsize=(10,3))\n",
    "cafv_count_by_year.plot(kind=\"bar\")\n",
    "plt.show()"
   ]
  },
  {
   "cell_type": "markdown",
   "id": "4db4e602-dde2-461d-be31-e3245a152d0c",
   "metadata": {},
   "source": [
    "<h1><font color=\"blue\">2018 and 2020 Model year most vehicles eligible for CAFV</h1>"
   ]
  },
  {
   "cell_type": "markdown",
   "id": "6016aa11-5688-4e33-a3b6-e5990787b98e",
   "metadata": {},
   "source": [
    "<h1>Which counties have the highest average electric range for vehicles?"
   ]
  },
  {
   "cell_type": "code",
   "execution_count": 308,
   "id": "ed4e3289-59ee-42ea-8696-2f6a230b9bd4",
   "metadata": {},
   "outputs": [
    {
     "data": {
      "text/plain": [
       "County\n",
       "Chatham       322.0\n",
       "St. Louis     322.0\n",
       "Denton        322.0\n",
       "Rockingham    308.0\n",
       "Nassau        293.0\n",
       "Palm Beach    291.0\n",
       "Travis        265.0\n",
       "Chesapeake    259.0\n",
       "Arlington     220.0\n",
       "Lee           220.0\n",
       "Name: Electric Range, dtype: float64"
      ]
     },
     "execution_count": 308,
     "metadata": {},
     "output_type": "execute_result"
    }
   ],
   "source": [
    "df.groupby('County')['Electric Range'].mean().sort_values(ascending=False).head(10)"
   ]
  },
  {
   "cell_type": "markdown",
   "id": "802e3621-5e8c-474b-ab12-06b0c2abe717",
   "metadata": {},
   "source": [
    "<h1><font color=\"blue\">Highest average electric range make- Chatham, St. Louis, Denton (322)</h1>"
   ]
  },
  {
   "cell_type": "markdown",
   "id": "a279e208-cc66-45ae-a0bd-e81c04e39fde",
   "metadata": {},
   "source": [
    "<h1>How has the diversity of makes and models evolved over time?"
   ]
  },
  {
   "cell_type": "code",
   "execution_count": 319,
   "id": "2e018a8c-3d33-4531-8dcf-32d393ae0abc",
   "metadata": {},
   "outputs": [
    {
     "data": {
      "text/plain": [
       "Model Year\n",
       "1999     1\n",
       "2000     1\n",
       "2002     1\n",
       "2003     1\n",
       "2008     1\n",
       "2010     2\n",
       "2011     5\n",
       "2012     7\n",
       "2013     8\n",
       "2014    13\n",
       "2015    12\n",
       "2016    16\n",
       "2017    16\n",
       "2018    19\n",
       "2019    21\n",
       "2020    19\n",
       "2021    21\n",
       "2022    25\n",
       "2023    32\n",
       "2024    41\n",
       "2025    22\n",
       "Name: Make, dtype: int64"
      ]
     },
     "execution_count": 319,
     "metadata": {},
     "output_type": "execute_result"
    }
   ],
   "source": [
    "df.groupby(\"Model Year\")[\"Make\"].nunique()"
   ]
  },
  {
   "cell_type": "code",
   "execution_count": 320,
   "id": "7c82f68c-1a19-40e8-ac99-9f87855b4020",
   "metadata": {},
   "outputs": [
    {
     "data": {
      "image/png": "[encoded data removed]",
      "text/plain": [
       "<Figure size 640x480 with 1 Axes>"
      ]
     },
     "metadata": {},
     "output_type": "display_data"
    }
   ],
   "source": [
    "diverity_over_time = df.groupby(\"Model Year\")[\"Make\"].nunique()\n",
    "diverity_over_time.plot(kind=\"bar\")\n",
    "plt.show()"
   ]
  },
  {
   "cell_type": "code",
   "execution_count": 323,
   "id": "3fbaea87-1e41-4009-99ee-adf2dba80517",
   "metadata": {},
   "outputs": [
    {
     "data": {
      "text/plain": [
       "Model Year\n",
       "1999                                               {FORD}\n",
       "2000                                               {FORD}\n",
       "2002                                             {TOYOTA}\n",
       "2003                                             {TOYOTA}\n",
       "2008                                              {TESLA}\n",
       "2010                        {TESLA, WHEEGO ELECTRIC CARS}\n",
       "2011    {TESLA, CHEVROLET, AZURE DYNAMICS, TH!NK, NISSAN}\n",
       "2012    {TESLA, CHEVROLET, TOYOTA, MITSUBISHI, FISKER,...\n",
       "2013    {CHEVROLET, TESLA, HONDA, SMART, TOYOTA, FORD,...\n",
       "2014    {BMW, CHEVROLET, TESLA, HONDA, CADILLAC, MERCE...\n",
       "2015    {BMW, TESLA, CHEVROLET, MERCEDES-BENZ, SMART, ...\n",
       "2016    {BMW, CHEVROLET, TESLA, AUDI, CADILLAC, MERCED...\n",
       "2017    {BMW, CHEVROLET, TESLA, AUDI, CADILLAC, MERCED...\n",
       "2018    {TOYOTA, PORSCHE, VOLVO, TESLA, MERCEDES-BENZ,...\n",
       "2019    {JAGUAR, TOYOTA, PORSCHE, VOLVO, TESLA, MERCED...\n",
       "2020    {LINCOLN, TOYOTA, JAGUAR, PORSCHE, VOLVO, TESL...\n",
       "2021    {LINCOLN, TOYOTA, PORSCHE, VOLVO, TESLA, KIA, ...\n",
       "2022    {LINCOLN, RIVIAN, TOYOTA, JAGUAR, PORSCHE, VOL...\n",
       "2023    {LINCOLN, RIVIAN, TOYOTA, GENESIS, JAGUAR, FIS...\n",
       "2024    {LINCOLN, RIVIAN, TOYOTA, JAGUAR, GENESIS, RAM...\n",
       "2025    {LINCOLN, RIVIAN, GENESIS, PORSCHE, VOLVO, TES...\n",
       "Name: Make, dtype: object"
      ]
     },
     "execution_count": 323,
     "metadata": {},
     "output_type": "execute_result"
    }
   ],
   "source": [
    "df.groupby(\"Model Year\")[\"Make\"].apply(set)"
   ]
  },
  {
   "cell_type": "markdown",
   "id": "eed8a76b-ed29-454b-bed4-5c992048c096",
   "metadata": {},
   "source": [
    "<h1><font color=\"blue\">1999 to 2008 there are 1 manufacturer,  Manufactures are increased from 2010, sharp increase in 2024</h1>"
   ]
  },
  {
   "cell_type": "markdown",
   "id": "f32ea57c-099f-4b4c-890e-b14102291107",
   "metadata": {},
   "source": [
    "<h1>Which vehicle models qualify most frequently for CAFV eligibility?</h1>"
   ]
  },
  {
   "cell_type": "code",
   "execution_count": 324,
   "id": "e87ca480-d6d2-4009-b77d-860f2acc716c",
   "metadata": {},
   "outputs": [
    {
     "data": {
      "text/plain": [
       "Index(['VIN (1-10)', 'County', 'City', 'State', 'Postal Code', 'Model Year',\n",
       "       'Make', 'Model', 'Electric Vehicle Type',\n",
       "       'Clean Alternative Fuel Vehicle (CAFV) Eligibility', 'Electric Range',\n",
       "       'Base MSRP', 'Legislative District', 'DOL Vehicle ID',\n",
       "       'Vehicle Location', 'Electric Utility', '2020 Census Tract',\n",
       "       'Price Range'],\n",
       "      dtype='object')"
      ]
     },
     "execution_count": 324,
     "metadata": {},
     "output_type": "execute_result"
    }
   ],
   "source": [
    "df.columns"
   ]
  },
  {
   "cell_type": "code",
   "execution_count": 336,
   "id": "53545e5d-836e-4e78-bc73-666c39c05ed8",
   "metadata": {},
   "outputs": [],
   "source": [
    "eligible = df[df[\"Clean Alternative Fuel Vehicle (CAFV) Eligibility\"] == \"Clean Alternative Fuel Vehicle Eligible\"]"
   ]
  },
  {
   "cell_type": "code",
   "execution_count": 339,
   "id": "1b4603ed-bbaa-46c0-a857-40e93d037a84",
   "metadata": {},
   "outputs": [
    {
     "data": {
      "text/plain": [
       "Model    Make     \n",
       "MODEL 3  TESLA        13723\n",
       "LEAF     NISSAN       10414\n",
       "MODEL S  TESLA         5916\n",
       "VOLT     CHEVROLET     4760\n",
       "BOLT EV  CHEVROLET     4710\n",
       "Name: count, dtype: int64"
      ]
     },
     "execution_count": 339,
     "metadata": {},
     "output_type": "execute_result"
    }
   ],
   "source": [
    "eligible[[\"Model\",\"Make\"]].value_counts().head()"
   ]
  },
  {
   "cell_type": "markdown",
   "id": "a9b59ccb-f2fc-4cf1-ab0f-c85fdda2965c",
   "metadata": {},
   "source": [
    "<h1><font color=\"blue\">Model 3 (Tesla) and Leaf (Nissan) has qualify most frequently for CAFV eligiblity</h1>"
   ]
  },
  {
   "cell_type": "code",
   "execution_count": null,
   "id": "e85d795c-e5b0-4d92-bbc1-21781f8290d6",
   "metadata": {},
   "outputs": [],
   "source": []
  }
 ],
 "metadata": {
  "kernelspec": {
   "display_name": "Python 3 (ipykernel)",
   "language": "python",
   "name": "python3"
  },
  "language_info": {
   "codemirror_mode": {
    "name": "ipython",
    "version": 3
   },
   "file_extension": ".py",
   "mimetype": "text/x-python",
   "name": "python",
   "nbconvert_exporter": "python",
   "pygments_lexer": "ipython3",
   "version": "3.12.4"
  }
 },
 "nbformat": 4,
 "nbformat_minor": 5
}
